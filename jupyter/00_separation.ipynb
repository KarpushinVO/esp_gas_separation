{
 "cells": [
  {
   "cell_type": "markdown",
   "id": "e2adaf84-99f2-44fa-93ac-3c449b9e0ac4",
   "metadata": {},
   "source": [
    "# План\n",
    "\n",
    "Надо добавить сюда краткоре описание теории по сепарации газа на приеме ЭЦН, а также различные расчетные методы оценки величины естественной сепарации газа, которые можно использовать в практических расчетах.\n",
    "- Метод Маркеза\n",
    "- Метод Мищенко \n",
    "- Метод Михайлова В.Г. или какие то производные от этого\n",
    "\n",
    "При расчетах скорее всего потребуются pvt - их можно будет притянуть из neftpy\n",
    "\n",
    "Также хорошо бы собрать обзор литературы и обзор методов расчета в различных прикладных программах. "
   ]
  },
  {
   "cell_type": "code",
   "execution_count": null,
   "id": "291e8278-45a8-461a-b07b-96491d34c20c",
   "metadata": {},
   "outputs": [],
   "source": []
  }
 ],
 "metadata": {
  "kernelspec": {
   "display_name": "Python 3 (ipykernel)",
   "language": "python",
   "name": "python3"
  },
  "language_info": {
   "codemirror_mode": {
    "name": "ipython",
    "version": 3
   },
   "file_extension": ".py",
   "mimetype": "text/x-python",
   "name": "python",
   "nbconvert_exporter": "python",
   "pygments_lexer": "ipython3",
   "version": "3.10.9"
  }
 },
 "nbformat": 4,
 "nbformat_minor": 5
}
